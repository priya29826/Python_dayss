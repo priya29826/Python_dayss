{
  "nbformat": 4,
  "nbformat_minor": 0,
  "metadata": {
    "colab": {
      "provenance": []
    },
    "kernelspec": {
      "name": "python3",
      "display_name": "Python 3"
    },
    "language_info": {
      "name": "python"
    }
  },
  "cells": [
    {
      "cell_type": "markdown",
      "source": [
        "#**Conditional Statement**"
      ],
      "metadata": {
        "id": "OrAqwmrR9SBN"
      }
    },
    {
      "cell_type": "markdown",
      "source": [
        "* **A conditional statement in programming is a structure that allows different code blocks to be executed based on whether a specified condition is true or false. It's a way for the program to make decisions and control its behavior dynamically.**\n",
        "\n",
        " **Types of conditional statements:**\n",
        "\n",
        " **1. If statement:** A conditional statement that executes a block of code if a specified condition is true.\n",
        "\n",
        " **2. If-else statement:** A conditional statement that executes one block of code if the condition is true and another block if the condition is false.\n",
        "\n",
        " **3. If-elif-else statement:** A conditional statement used when there are multiple conditions to check. It executes the corresponding block of code for the first true condition encountered, or the else block if none of the conditions are true.\n",
        "\n",
        " **4. Nested if-else statement:** A conditional statement where one or more if statements are nested inside another if statement. It allows for more complex conditional logic by executing different blocks of code based on multiple conditions.\n",
        "\n",
        " **5. Ternary operator (Short hand if-else):** A concise way of writing an if-else statement in a single line. It returns one of two values depending on the evaluation of a condition."
      ],
      "metadata": {
        "id": "rvfej6WW9jbB"
      }
    },
    {
      "cell_type": "markdown",
      "source": [
        "**1. if the statement**"
      ],
      "metadata": {
        "id": "bTzKAtju-LKF"
      }
    },
    {
      "cell_type": "code",
      "execution_count": 1,
      "metadata": {
        "colab": {
          "base_uri": "https://localhost:8080/"
        },
        "id": "avh1A_uXpNoR",
        "outputId": "68fc9e9c-5944-45e3-eef1-62ffe07379df"
      },
      "outputs": [
        {
          "output_type": "stream",
          "name": "stdout",
          "text": [
            "enter the marks: 99\n",
            "you'll get new phone\n",
            "thankyou!\n"
          ]
        }
      ],
      "source": [
        "#marks based statement\n",
        "\n",
        "marks=int(input(\"enter the marks: \"))\n",
        "\n",
        "#if statement\n",
        "\n",
        "if marks>=90:\n",
        "  print(\"you'll get new phone\")\n",
        "print(\"thankyou!\")"
      ]
    },
    {
      "cell_type": "markdown",
      "source": [
        "**2. if-else statement**"
      ],
      "metadata": {
        "id": "iEkjnr6HARHa"
      }
    },
    {
      "cell_type": "code",
      "source": [
        "#marks based statements\n",
        "\n",
        "marks=int(input(\"enter the marks: \"))\n",
        "\n",
        "#if-else statement\n",
        "\n",
        "if marks>=90:\n",
        "  print(\"you'll get new phone.\")\n",
        "else:\n",
        "  print(\"no phone for one week.\")\n",
        "\n",
        "print(\"thankyou!\")"
      ],
      "metadata": {
        "colab": {
          "base_uri": "https://localhost:8080/"
        },
        "id": "RRN9Ho9fAHwh",
        "outputId": "dcf73969-c68e-4b84-a4de-6c8dc0374232"
      },
      "execution_count": 18,
      "outputs": [
        {
          "output_type": "stream",
          "name": "stdout",
          "text": [
            "enter the marks: 95\n",
            "you'll get new phone.\n",
            "thankyou!\n"
          ]
        }
      ]
    },
    {
      "cell_type": "markdown",
      "source": [
        "**3. if-elif-else statement**"
      ],
      "metadata": {
        "id": "3AzfDLjGHbV3"
      }
    },
    {
      "cell_type": "code",
      "source": [
        "#marks based statements\n",
        "\n",
        "marks=int(input(\"enter the marks: \"))\n",
        "\n",
        "#if-elif-else statement\n",
        "\n",
        "if marks>=90:\n",
        "  print(\"you'll get new phone.\")\n",
        "elif marks>=80 and marks<90:\n",
        "  print(\"i'll buy watch for you.\")\n",
        "elif marks>=70 and marks<80:\n",
        "  print(\"i'll take you out for dinner.\")\n",
        "elif marks>=60 and marks<70:\n",
        "  print(\"i'll buy ice-cream for you.\")\n",
        "else:\n",
        "  print(\"no phone for one week.\")\n",
        "\n",
        "print(\"thankyou!\")"
      ],
      "metadata": {
        "colab": {
          "base_uri": "https://localhost:8080/"
        },
        "id": "vtOwmAelA1Wb",
        "outputId": "debeeed2-0603-4fb0-d2c0-eaa3bcbf44ee"
      },
      "execution_count": 4,
      "outputs": [
        {
          "output_type": "stream",
          "name": "stdout",
          "text": [
            "enter the marks: 60\n",
            "i'll buy ice-cream for you.\n",
            "thankyou!\n"
          ]
        }
      ]
    },
    {
      "cell_type": "code",
      "source": [
        "#marks based statements\n",
        "\n",
        "marks=int(input(\"enter the marks: \"))\n",
        "\n",
        "#if-elif-else statement\n",
        "\n",
        "if marks>=90:\n",
        "  print(\"you'll get new phone.\")\n",
        "elif marks>=80 and marks<90:\n",
        "  print(\"i'll buy watch for you.\")\n",
        "elif marks>=70 and marks<80:\n",
        "  print(\"i'll take you out for dinner.\")\n",
        "elif marks>=60 and marks<70:\n",
        "  print(\"i'll buy ice-cream for you.\")\n",
        "else:\n",
        "  print(\"no phone for one week.\")\n",
        "\n",
        "print(\"thankyou!\")"
      ],
      "metadata": {
        "colab": {
          "base_uri": "https://localhost:8080/"
        },
        "id": "WqZbQfARCvMh",
        "outputId": "f32d2306-b9dd-4b92-b022-3d8e9e3035c8"
      },
      "execution_count": 5,
      "outputs": [
        {
          "output_type": "stream",
          "name": "stdout",
          "text": [
            "enter the marks: 96\n",
            "you'll get new phone.\n",
            "thankyou!\n"
          ]
        }
      ]
    },
    {
      "cell_type": "code",
      "source": [
        "#marks based statements\n",
        "\n",
        "marks=int(input(\"enter the marks: \"))\n",
        "\n",
        "#if-elif-else statement\n",
        "\n",
        "if marks>=90:\n",
        "  print(\"you'll get new phone.\")\n",
        "elif marks>=80 and marks<90:\n",
        "  print(\"i'll buy watch for you.\")\n",
        "elif marks>=70 and marks<80:\n",
        "  print(\"i'll take you out for dinner.\")\n",
        "elif marks>=60 and marks<70:\n",
        "  print(\"i'll buy ice-cream for you.\")\n",
        "else:\n",
        "  print(\"no phone for one week.\")\n",
        "\n",
        "print(\"thankyou!\")"
      ],
      "metadata": {
        "colab": {
          "base_uri": "https://localhost:8080/"
        },
        "id": "v0xL9VCyC1t7",
        "outputId": "1722b376-525d-4c2a-c2d1-f8a5729586a1"
      },
      "execution_count": 6,
      "outputs": [
        {
          "output_type": "stream",
          "name": "stdout",
          "text": [
            "enter the marks: 75\n",
            "i'll take you out for dinner.\n",
            "thankyou!\n"
          ]
        }
      ]
    },
    {
      "cell_type": "markdown",
      "source": [
        "**4. Nestedif statement**"
      ],
      "metadata": {
        "id": "01eaDjhOHriB"
      }
    },
    {
      "cell_type": "code",
      "source": [
        "#marks based statements\n",
        "\n",
        "marks=int(input(\"enter the marks: \"))\n",
        "\n",
        "#nestedif-else statement\n",
        "\n",
        "if marks>=80:\n",
        "  print(\"i'll buy new watch for you.\")\n",
        "\n",
        "  if marks>=90:\n",
        "    print(\"i'll buy phone for you.\")\n",
        "  else:\n",
        "    print(\"good job\")\n",
        "\n",
        "else:\n",
        "  print(\"no phone for one week.\")\n",
        "\n",
        "print(\"thankyou!\")"
      ],
      "metadata": {
        "colab": {
          "base_uri": "https://localhost:8080/"
        },
        "id": "nKysE4lyC_hf",
        "outputId": "f4ab8583-0c87-4ed8-f11a-deb78ca13fd0"
      },
      "execution_count": 15,
      "outputs": [
        {
          "output_type": "stream",
          "name": "stdout",
          "text": [
            "enter the marks: 85\n",
            "i'll buy new watch for you.\n",
            "good job\n",
            "thankyou!\n"
          ]
        }
      ]
    },
    {
      "cell_type": "code",
      "source": [
        "#marks based statements\n",
        "\n",
        "marks=int(input(\"enter the marks: \"))\n",
        "\n",
        "#nestedif-else statement\n",
        "\n",
        "if marks>=80:\n",
        "  print(\"i'll buy new watch for you.\")\n",
        "\n",
        "  if marks>=90:\n",
        "    print(\"i'll buy phone for you.\")\n",
        "  else:\n",
        "    print(\"good job\")\n",
        "\n",
        "else:\n",
        "  print(\"no phone for one week.\")\n",
        "\n",
        "print(\"thankyou!\")"
      ],
      "metadata": {
        "colab": {
          "base_uri": "https://localhost:8080/"
        },
        "id": "ZG8YZ-ldDkZr",
        "outputId": "8b54c841-a44c-4fc7-94c4-20a6870892f4"
      },
      "execution_count": 16,
      "outputs": [
        {
          "output_type": "stream",
          "name": "stdout",
          "text": [
            "enter the marks: 90\n",
            "i'll buy new watch for you.\n",
            "i'll buy phone for you.\n",
            "thankyou!\n"
          ]
        }
      ]
    },
    {
      "cell_type": "code",
      "source": [
        "#marks based statements\n",
        "\n",
        "marks=int(input(\"enter the marks: \"))\n",
        "\n",
        "#nestedif-else statement\n",
        "\n",
        "if marks>=80:\n",
        "  print(\"i'll buy new watch for you.\")\n",
        "\n",
        "  if marks>=90:\n",
        "    print(\"i'll buy phone for you.\")\n",
        "  else:\n",
        "    print(\"good job\")\n",
        "\n",
        "else:\n",
        "  print(\"no phone for one week.\")\n",
        "\n",
        "print(\"thankyou!\")"
      ],
      "metadata": {
        "colab": {
          "base_uri": "https://localhost:8080/"
        },
        "id": "hdFwC1OnG9M1",
        "outputId": "cbc82c75-c8b7-428c-8695-7ea7719be233"
      },
      "execution_count": 17,
      "outputs": [
        {
          "output_type": "stream",
          "name": "stdout",
          "text": [
            "enter the marks: 75\n",
            "no phone for one week.\n",
            "thankyou!\n"
          ]
        }
      ]
    },
    {
      "cell_type": "markdown",
      "source": [
        "**5. short hand if statement**"
      ],
      "metadata": {
        "id": "Vl0UI1GMIGtu"
      }
    },
    {
      "cell_type": "code",
      "source": [
        "#marks based statements\n",
        "\n",
        "marks=int(input(\"enter the marks: \"))\n",
        "\n",
        "#short hand if statement\n",
        "\n",
        "if marks>=90: print(\"you'll get new phone\")"
      ],
      "metadata": {
        "colab": {
          "base_uri": "https://localhost:8080/"
        },
        "id": "c8oCITZlHA21",
        "outputId": "55b537dd-63b8-4ac1-a68e-0cb430de3d8c"
      },
      "execution_count": 19,
      "outputs": [
        {
          "output_type": "stream",
          "name": "stdout",
          "text": [
            "enter the marks: 95\n",
            "you'll get new phone\n"
          ]
        }
      ]
    },
    {
      "cell_type": "code",
      "source": [
        "#marks based statements\n",
        "\n",
        "marks=int(input(\"enter the marks: \"))\n",
        "\n",
        "#short hand if statement\n",
        "\n",
        "if marks>=90: print(\"you'll get new phone\")"
      ],
      "metadata": {
        "colab": {
          "base_uri": "https://localhost:8080/"
        },
        "id": "1g4h7Vv5JCjV",
        "outputId": "bb2d9c4a-127d-4db4-80b2-37e01a167ee3"
      },
      "execution_count": 20,
      "outputs": [
        {
          "name": "stdout",
          "output_type": "stream",
          "text": [
            "enter the marks: 85\n"
          ]
        }
      ]
    },
    {
      "cell_type": "markdown",
      "source": [
        "**6. short hand if else statement**"
      ],
      "metadata": {
        "id": "1zM8f94-JWDI"
      }
    },
    {
      "cell_type": "code",
      "source": [
        "#marks based statements\n",
        "\n",
        "marks=int(input(\"enter the marks: \"))\n",
        "\n",
        "#short hand if-else statement\n",
        "\n",
        "print(\"you'll get new phone.\") if marks>=90 else print('no tv for one week.')"
      ],
      "metadata": {
        "colab": {
          "base_uri": "https://localhost:8080/"
        },
        "id": "OVhdBteJJJVv",
        "outputId": "bc6b8588-8990-4535-b6e6-2201b673f64a"
      },
      "execution_count": 22,
      "outputs": [
        {
          "output_type": "stream",
          "name": "stdout",
          "text": [
            "enter the marks: 80\n",
            "no tv for one week.\n"
          ]
        }
      ]
    },
    {
      "cell_type": "code",
      "source": [
        "#marks based statements\n",
        "\n",
        "marks=int(input(\"enter the marks: \"))\n",
        "\n",
        "#short hand if-else statement\n",
        "\n",
        "print(\"you'll get new phone.\") if marks>=90 else print('no tv for one week.')"
      ],
      "metadata": {
        "colab": {
          "base_uri": "https://localhost:8080/"
        },
        "id": "Rd1DwOLeJ-mT",
        "outputId": "17e92da2-d612-4fcd-e9b1-40e8383cd143"
      },
      "execution_count": 23,
      "outputs": [
        {
          "output_type": "stream",
          "name": "stdout",
          "text": [
            "enter the marks: 95\n",
            "you'll get new phone.\n"
          ]
        }
      ]
    },
    {
      "cell_type": "code",
      "source": [],
      "metadata": {
        "id": "ta8mJwYiKE-g"
      },
      "execution_count": 23,
      "outputs": []
    }
  ]
}